{
 "cells": [
  {
   "cell_type": "markdown",
   "id": "43ecf1e1",
   "metadata": {},
   "source": [
    "# About this notebook\n",
    "\n",
    "@author: Yingding Wang\n",
    "\n",
    "This notebook demonstrate the use of postgres client to connect to a postgres db in core DMZ\n",
    "\n",
    "* postgres client (psycopg): https://www.psycopg.org/\n",
    "* Documentation (psycopg): https://www.psycopg.org/docs/usage.html"
   ]
  },
  {
   "cell_type": "code",
   "execution_count": null,
   "id": "0faf6227",
   "metadata": {},
   "outputs": [],
   "source": [
    "import sys, os\n",
    "!{sys.executable} -m pip install --upgrade --user psycopg2-binary python-dotenv"
   ]
  },
  {
   "cell_type": "code",
   "execution_count": null,
   "id": "1b372733",
   "metadata": {},
   "outputs": [],
   "source": [
    "import psycopg2\n",
    "from typing import Dict, List, Tuple\n",
    "from psycopg2.extensions import cursor"
   ]
  },
  {
   "cell_type": "markdown",
   "id": "bd78186e",
   "metadata": {},
   "source": [
    "## Edit postgres.env file for DB connection"
   ]
  },
  {
   "cell_type": "code",
   "execution_count": null,
   "id": "9f13a4ac",
   "metadata": {},
   "outputs": [],
   "source": [
    "ENV_FILE=\"scivias_postgres.env\""
   ]
  },
  {
   "cell_type": "markdown",
   "id": "fff30f2d",
   "metadata": {},
   "source": [
    "### Uncomment the following cell and edit with your PostresDB credential to connect to DB"
   ]
  },
  {
   "cell_type": "code",
   "execution_count": null,
   "id": "17c5310a",
   "metadata": {},
   "outputs": [],
   "source": [
    "'''\n",
    "%%writefile $ENV_FILE\n",
    "# environment variables for Postgres DB 14.1 \n",
    "DB_HOST=\"Database_Host_DNS_NAME\"\n",
    "DB_NAME=\"Database_Name\"\n",
    "DB_PORT=\"Database_Port\"\n",
    "DB_USER=\"Database_Login_User_Name\"\n",
    "DB_USER_PW=\"Database_Login_Password\"\n",
    "'''"
   ]
  },
  {
   "cell_type": "code",
   "execution_count": null,
   "id": "e0f8326d",
   "metadata": {},
   "outputs": [],
   "source": [
    "from dotenv import load_dotenv\n",
    "load_dotenv(dotenv_path=ENV_FILE, override=True)\n",
    "\n",
    "\"\"\"\n",
    "print(f\"\\\n",
    "{os.environ['DB_HOST']}\\n\\\n",
    "{os.environ['DB_NAME']}\\n\\\n",
    "{os.environ['DB_PORT']}\\n\\\n",
    "{os.environ['DB_USER']}\\n\\\n",
    "{os.environ['DB_USER_PW']}\\n\\\n",
    "\")\n",
    "\"\"\""
   ]
  },
  {
   "cell_type": "code",
   "execution_count": null,
   "id": "bda6e890",
   "metadata": {},
   "outputs": [],
   "source": [
    "config = {\n",
    "    \"dbname\":  os.environ['DB_NAME'],\n",
    "    \"user\":    os.environ['DB_USER'],\n",
    "    \"password\":os.environ['DB_USER_PW'],\n",
    "    \"host\":    os.environ['DB_HOST'],\n",
    "    \"port\":    os.environ['DB_PORT']  \n",
    "}\n",
    "# print(config)"
   ]
  },
  {
   "cell_type": "code",
   "execution_count": null,
   "id": "7366720b",
   "metadata": {},
   "outputs": [],
   "source": [
    "def run_sql(config: Dict, sql_statement: str) -> None: \n",
    "    with psycopg2.connect(**config) as conn:\n",
    "        with conn.cursor() as curs:\n",
    "            try:\n",
    "                curs.execute(sql_statement)\n",
    "            except Exception as cause:\n",
    "                print(f\"{cause}, {type(cause)}\")\n",
    "                \n",
    "# use a function decorator\n",
    "def run_sql_cursor(func):\n",
    "    def inner(config:Dict, sql_statement: str):\n",
    "        with psycopg2.connect(**config) as conn:\n",
    "            with conn.cursor() as curs:\n",
    "                try:\n",
    "                    # print(type(curs))\n",
    "                    return func(config, sql_statement, curs)\n",
    "                except Exception as cause:\n",
    "                    print(f\"{cause}, {type(cause)}\")\n",
    "    return inner                  "
   ]
  },
  {
   "cell_type": "code",
   "execution_count": null,
   "id": "ecd95628",
   "metadata": {},
   "outputs": [],
   "source": [
    "# create table with name test if not exit\n",
    "sql1=\"CREATE TABLE IF NOT EXISTS test (id serial PRIMARY KEY, num integer, data varchar);\""
   ]
  },
  {
   "cell_type": "code",
   "execution_count": null,
   "id": "fdc406e3",
   "metadata": {},
   "outputs": [],
   "source": [
    "run_sql(config, sql1)"
   ]
  },
  {
   "cell_type": "markdown",
   "id": "2f8b4a94",
   "metadata": {},
   "source": [
    "## Run SQL with return using functional decorator"
   ]
  },
  {
   "cell_type": "code",
   "execution_count": null,
   "id": "a28558f6",
   "metadata": {},
   "outputs": [],
   "source": [
    "# https://stackoverflow.com/a/24008869\n",
    "sql2=\"select relname from pg_class where relkind='r' and relname !~ '^(pg_|sql_)';\""
   ]
  },
  {
   "cell_type": "code",
   "execution_count": null,
   "id": "435bf37a",
   "metadata": {},
   "outputs": [],
   "source": [
    "@run_sql_cursor\n",
    "def show_all_user_table(config: Dict, sql_statement: str, curs: cursor=None):\n",
    "    if (curs is not None):\n",
    "        curs.execute(sql_statement)\n",
    "        # curs.fetchall() get a list of tuple https://www.psycopg.org/docs/cursor.html#cursor.fetchall\n",
    "        result: List[Tuple] = curs.fetchall()\n",
    "        # print list pretty: https://www.geeksforgeeks.org/print-lists-in-python-4-different-ways/    \n",
    "        for el in result:\n",
    "            print(*el, sep=\",\") # print tuple"
   ]
  },
  {
   "cell_type": "code",
   "execution_count": null,
   "id": "844b3a1a",
   "metadata": {},
   "outputs": [],
   "source": [
    "show_all_user_table(config, sql2)"
   ]
  },
  {
   "cell_type": "code",
   "execution_count": null,
   "id": "fa2d5eb3",
   "metadata": {},
   "outputs": [],
   "source": []
  }
 ],
 "metadata": {
  "kernelspec": {
   "display_name": "Python 3",
   "language": "python",
   "name": "python3"
  },
  "language_info": {
   "codemirror_mode": {
    "name": "ipython",
    "version": 3
   },
   "file_extension": ".py",
   "mimetype": "text/x-python",
   "name": "python",
   "nbconvert_exporter": "python",
   "pygments_lexer": "ipython3",
   "version": "3.8.10"
  }
 },
 "nbformat": 4,
 "nbformat_minor": 5
}
