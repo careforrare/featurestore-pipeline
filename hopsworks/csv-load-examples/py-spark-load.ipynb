{
 "cells": [
  {
   "cell_type": "markdown",
   "id": "4198fe15",
   "metadata": {},
   "source": [
    "# About this notebook\n",
    "\n",
    "@author: Yingding Wang\n",
    "\n",
    "This notebook loads a csv file from the feature store hdfs and save it as a feature group.\n",
    "\n",
    "**WARNING:**\\\n",
    "You need to select the **Kernel \"PySpark\"** of Hopsworks Feature Store and restart the Kernel after the selection"
   ]
  },
  {
   "cell_type": "code",
   "execution_count": 1,
   "id": "67e60a32",
   "metadata": {},
   "outputs": [
    {
     "name": "stdout",
     "output_type": "stream",
     "text": [
      "Starting Spark application\n"
     ]
    },
    {
     "data": {
      "text/html": [
       "<table>\n",
       "<tr><th>ID</th><th>YARN Application ID</th><th>Kind</th><th>State</th><th>Spark UI</th><th>Driver log</th></tr><tr><td>2</td><td>application_1638875459571_0003</td><td>pyspark</td><td>idle</td><td><a target=\"_blank\" href=\"/hopsworks-api/yarnui/https://resourcemanager.service.consul:8089/proxy/application_1638875459571_0003/\">Link</a></td><td><a target=\"_blank\" href=\"/hopsworks-api/yarnui/https://srvchildre22:8044/node/containerlogs/container_e08_1638875459571_0003_01_000001/dzkj_ml_pipeline__yingding\">Link</a></td></tr></table>"
      ],
      "text/plain": [
       "<IPython.core.display.HTML object>"
      ]
     },
     "metadata": {},
     "output_type": "display_data"
    },
    {
     "name": "stdout",
     "output_type": "stream",
     "text": [
      "SparkSession available as 'spark'.\n",
      "3.7.9"
     ]
    }
   ],
   "source": [
    "import os, sys\n",
    "from platform import python_version\n",
    "\n",
    "print(python_version())"
   ]
  },
  {
   "cell_type": "code",
   "execution_count": null,
   "id": "6bca8c5f",
   "metadata": {},
   "outputs": [],
   "source": [
    "# get the current work dir\n",
    "CUR_DIR=os.getcwd()\n",
    "print(f\"current dir is {CUR_DIR}\")"
   ]
  },
  {
   "cell_type": "code",
   "execution_count": 3,
   "id": "fdddf12c",
   "metadata": {},
   "outputs": [],
   "source": [
    "import hsfs"
   ]
  },
  {
   "cell_type": "code",
   "execution_count": 4,
   "id": "49666923",
   "metadata": {},
   "outputs": [
    {
     "name": "stdout",
     "output_type": "stream",
     "text": [
      "Connected. Call `.close()` to terminate connection gracefully."
     ]
    }
   ],
   "source": [
    "# create a connection\n",
    "connection = hsfs.connection()\n",
    "# Get the feature store handle for the project's feature store\n",
    "fs = connection.get_feature_store()"
   ]
  },
  {
   "cell_type": "code",
   "execution_count": 15,
   "id": "f9c802df",
   "metadata": {},
   "outputs": [],
   "source": [
    "# Data Engineering\n",
    "\n",
    "from hops import hdfs\n",
    "from pyspark.sql import functions as F\n",
    "from pyspark.sql.dataframe import DataFrame as SparkDF"
   ]
  },
  {
   "cell_type": "code",
   "execution_count": 51,
   "id": "b792194f",
   "metadata": {},
   "outputs": [],
   "source": [
    "# covid19 is the subfolder of DataSet\n",
    "# hdfs_file_path=\"hdfs:///Projects/{}/covid19/Metadata_clinic.csv\".format(hdfs.project_name())\n",
    "hdfs_file_path=f\"hdfs:///Projects/{hdfs.project_name()}/covid19/Metadata_clinic.csv\"\n",
    "meta_clinics_csv: SparkDF = spark.read\\\n",
    "    .option(\"inferSchema\", \"true\")\\\n",
    "    .option(\"header\", \"true\")\\\n",
    "    .option(\"sep\", \";\")\\\n",
    "    .format(\"csv\")\\\n",
    "    .load(hdfs_file_path)"
   ]
  },
  {
   "cell_type": "code",
   "execution_count": 52,
   "id": "81abe8be",
   "metadata": {},
   "outputs": [
    {
     "name": "stdout",
     "output_type": "stream",
     "text": [
      "<class 'pyspark.sql.dataframe.DataFrame'>"
     ]
    }
   ],
   "source": [
    "print(type(meta_clinics_csv))"
   ]
  },
  {
   "cell_type": "code",
   "execution_count": 11,
   "id": "dff915af",
   "metadata": {},
   "outputs": [],
   "source": [
    "# spark call show() to display the Spark DataFrame\n",
    "#meta_clinics_csv.show(5)"
   ]
  },
  {
   "cell_type": "code",
   "execution_count": 53,
   "id": "0183ecea",
   "metadata": {},
   "outputs": [],
   "source": [
    "meta_clinics_fg = fs.create_feature_group(name=\"covid_clinic_meta_fg\", \n",
    "                                          version=1, \n",
    "                                          primary_key=[\"Patient code/ Pseudonym\"],\n",
    "                                          description=\"clinic meta data\",\n",
    "                                          time_travel_format=None,\n",
    "                                          statistics_config=False\n",
    "                                         )"
   ]
  },
  {
   "cell_type": "code",
   "execution_count": 12,
   "id": "ad9ec390",
   "metadata": {},
   "outputs": [],
   "source": [
    "# save the Spark DataFrame meta_clinics_csv as feature group with name \"covid_clinic_meta_fg\"\n",
    "# TODO: feature store doesn't like the column name containing \"/\" slash, need to remove the invalid sign before save the feature group.\n",
    "#meta_clinics_fg.save(meta_clinics_csv)"
   ]
  },
  {
   "cell_type": "markdown",
   "id": "98dd35e4",
   "metadata": {},
   "source": [
    "## Download the Spark Dataframe to a local Pandas Dataframe using %%sql or %%spark\n",
    "\n",
    "**WARNING**:\\\n",
    "You shall **NOT** download **large** spark dataframes.\n",
    "\n",
    "The entire dataframe must fit into the memory of this notebook server. Add the flag `-maxrow x` to limitthe dataframe size.\n",
    "\n",
    "Reference:\\\n",
    "* Download the Spark DataFrame to local Pandas DataFrame: https://hopsworks.readthedocs.io/en/stable/user_guide/hopsworks/jupyter.html\n"
   ]
  },
  {
   "cell_type": "code",
   "execution_count": 54,
   "id": "6ebfa2f8",
   "metadata": {},
   "outputs": [],
   "source": [
    "# uses %%sql magic to select a sql execution on the Spark DataFrame \"meta_clinics_csv\" \n",
    "# and save it to a local Pandas DataFrame \"clinic_df\"\n",
    "meta_clinics_csv.createOrReplaceTempView(\"clinic\")"
   ]
  },
  {
   "cell_type": "code",
   "execution_count": null,
   "id": "454fbfda",
   "metadata": {},
   "outputs": [],
   "source": [
    "%%sql -c sql -o clinic_df --maxrows 200\n",
    "SELECT * FROM clinic"
   ]
  },
  {
   "cell_type": "code",
   "execution_count": 32,
   "id": "968af39c",
   "metadata": {},
   "outputs": [],
   "source": [
    "# Note: not using this instead uses %%sql magic to change the local DataFrame name.\n",
    "\n",
    "# download from the spark DataFrame with name \"meta_clinics_csv\" to a local Pandas DataFrame with name \"meta_clinics_csv\"\n",
    "#%%spark -o meta_clinics_csv"
   ]
  },
  {
   "cell_type": "code",
   "execution_count": 45,
   "id": "3c248d47",
   "metadata": {},
   "outputs": [
    {
     "name": "stdout",
     "output_type": "stream",
     "text": [
      "<class 'pandas.core.frame.DataFrame'>\n"
     ]
    }
   ],
   "source": [
    "%%local\n",
    "print(type(clinic_df))"
   ]
  },
  {
   "cell_type": "code",
   "execution_count": null,
   "id": "29966aae",
   "metadata": {},
   "outputs": [],
   "source": [
    "%%local\n",
    "# now the local pandas DataFrame can be examined\n",
    "print(f\"{type(clinic_df)}\")\n",
    "clinic_df.head(2)"
   ]
  },
  {
   "cell_type": "code",
   "execution_count": 48,
   "id": "59b4e93c",
   "metadata": {},
   "outputs": [
    {
     "name": "stdout",
     "output_type": "stream",
     "text": [
      "Connection closed."
     ]
    }
   ],
   "source": [
    "# Don't forget to close the connection to hopsworks feature store\n",
    "connection.close()"
   ]
  },
  {
   "cell_type": "code",
   "execution_count": null,
   "id": "cdf6918e",
   "metadata": {},
   "outputs": [],
   "source": []
  }
 ],
 "metadata": {
  "kernelspec": {
   "display_name": "Python 3",
   "language": "python",
   "name": "python3"
  },
  "language_info": {
   "codemirror_mode": {
    "name": "ipython",
    "version": 3
   },
   "file_extension": ".py",
   "mimetype": "text/x-python",
   "name": "python",
   "nbconvert_exporter": "python",
   "pygments_lexer": "ipython3",
   "version": "3.8.10"
  }
 },
 "nbformat": 4,
 "nbformat_minor": 5
}
